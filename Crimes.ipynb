{
 "cells": [
  {
   "cell_type": "code",
   "execution_count": 1,
   "id": "9b725860",
   "metadata": {},
   "outputs": [],
   "source": [
    "import seaborn as sns\n",
    "import numpy as np \n",
    "import matplotlib.pyplot as plt\n",
    "import pandas as pd\n",
    "from sklearn import preprocessing\n",
    "from sklearn.ensemble import RandomForestRegressor,RandomForestClassifier\n",
    "from sklearn.linear_model import LinearRegression,LogisticRegression\n",
    "from sklearn.model_selection import train_test_split\n",
    "from sklearn.metrics import r2_score,mean_absolute_error,mean_squared_error,average_precision_score,accuracy_score\n",
    "from sklearn.metrics import classification_report\n",
    "from sklearn.model_selection import GridSearchCV"
   ]
  },
  {
   "cell_type": "code",
   "execution_count": 3,
   "id": "91102f5b",
   "metadata": {},
   "outputs": [],
   "source": [
    "data=pd.read_csv(\"database.csv\",dtype={'Perpetrator Age': 'int64'})"
   ]
  },
  {
   "cell_type": "code",
   "execution_count": 4,
   "id": "f61b07fa",
   "metadata": {},
   "outputs": [
    {
     "data": {
      "text/html": [
       "<div>\n",
       "<style scoped>\n",
       "    .dataframe tbody tr th:only-of-type {\n",
       "        vertical-align: middle;\n",
       "    }\n",
       "\n",
       "    .dataframe tbody tr th {\n",
       "        vertical-align: top;\n",
       "    }\n",
       "\n",
       "    .dataframe thead th {\n",
       "        text-align: right;\n",
       "    }\n",
       "</style>\n",
       "<table border=\"1\" class=\"dataframe\">\n",
       "  <thead>\n",
       "    <tr style=\"text-align: right;\">\n",
       "      <th></th>\n",
       "      <th>Record ID</th>\n",
       "      <th>Agency Code</th>\n",
       "      <th>Agency Name</th>\n",
       "      <th>Agency Type</th>\n",
       "      <th>City</th>\n",
       "      <th>State</th>\n",
       "      <th>Year</th>\n",
       "      <th>Month</th>\n",
       "      <th>Incident</th>\n",
       "      <th>Crime Type</th>\n",
       "      <th>...</th>\n",
       "      <th>Victim Ethnicity</th>\n",
       "      <th>Perpetrator Sex</th>\n",
       "      <th>Perpetrator Age</th>\n",
       "      <th>Perpetrator Race</th>\n",
       "      <th>Perpetrator Ethnicity</th>\n",
       "      <th>Relationship</th>\n",
       "      <th>Weapon</th>\n",
       "      <th>Victim Count</th>\n",
       "      <th>Perpetrator Count</th>\n",
       "      <th>Record Source</th>\n",
       "    </tr>\n",
       "  </thead>\n",
       "  <tbody>\n",
       "    <tr>\n",
       "      <th>0</th>\n",
       "      <td>1</td>\n",
       "      <td>AK00101</td>\n",
       "      <td>Anchorage</td>\n",
       "      <td>Municipal Police</td>\n",
       "      <td>Anchorage</td>\n",
       "      <td>Alaska</td>\n",
       "      <td>1980</td>\n",
       "      <td>January</td>\n",
       "      <td>1</td>\n",
       "      <td>Murder or Manslaughter</td>\n",
       "      <td>...</td>\n",
       "      <td>Unknown</td>\n",
       "      <td>Male</td>\n",
       "      <td>15</td>\n",
       "      <td>Native American/Alaska Native</td>\n",
       "      <td>Unknown</td>\n",
       "      <td>Acquaintance</td>\n",
       "      <td>Blunt Object</td>\n",
       "      <td>0</td>\n",
       "      <td>0</td>\n",
       "      <td>FBI</td>\n",
       "    </tr>\n",
       "    <tr>\n",
       "      <th>1</th>\n",
       "      <td>2</td>\n",
       "      <td>AK00101</td>\n",
       "      <td>Anchorage</td>\n",
       "      <td>Municipal Police</td>\n",
       "      <td>Anchorage</td>\n",
       "      <td>Alaska</td>\n",
       "      <td>1980</td>\n",
       "      <td>March</td>\n",
       "      <td>1</td>\n",
       "      <td>Murder or Manslaughter</td>\n",
       "      <td>...</td>\n",
       "      <td>Unknown</td>\n",
       "      <td>Male</td>\n",
       "      <td>42</td>\n",
       "      <td>White</td>\n",
       "      <td>Unknown</td>\n",
       "      <td>Acquaintance</td>\n",
       "      <td>Strangulation</td>\n",
       "      <td>0</td>\n",
       "      <td>0</td>\n",
       "      <td>FBI</td>\n",
       "    </tr>\n",
       "    <tr>\n",
       "      <th>2</th>\n",
       "      <td>3</td>\n",
       "      <td>AK00101</td>\n",
       "      <td>Anchorage</td>\n",
       "      <td>Municipal Police</td>\n",
       "      <td>Anchorage</td>\n",
       "      <td>Alaska</td>\n",
       "      <td>1980</td>\n",
       "      <td>March</td>\n",
       "      <td>2</td>\n",
       "      <td>Murder or Manslaughter</td>\n",
       "      <td>...</td>\n",
       "      <td>Unknown</td>\n",
       "      <td>Unknown</td>\n",
       "      <td>0</td>\n",
       "      <td>Unknown</td>\n",
       "      <td>Unknown</td>\n",
       "      <td>Unknown</td>\n",
       "      <td>Unknown</td>\n",
       "      <td>0</td>\n",
       "      <td>0</td>\n",
       "      <td>FBI</td>\n",
       "    </tr>\n",
       "    <tr>\n",
       "      <th>3</th>\n",
       "      <td>4</td>\n",
       "      <td>AK00101</td>\n",
       "      <td>Anchorage</td>\n",
       "      <td>Municipal Police</td>\n",
       "      <td>Anchorage</td>\n",
       "      <td>Alaska</td>\n",
       "      <td>1980</td>\n",
       "      <td>April</td>\n",
       "      <td>1</td>\n",
       "      <td>Murder or Manslaughter</td>\n",
       "      <td>...</td>\n",
       "      <td>Unknown</td>\n",
       "      <td>Male</td>\n",
       "      <td>42</td>\n",
       "      <td>White</td>\n",
       "      <td>Unknown</td>\n",
       "      <td>Acquaintance</td>\n",
       "      <td>Strangulation</td>\n",
       "      <td>0</td>\n",
       "      <td>0</td>\n",
       "      <td>FBI</td>\n",
       "    </tr>\n",
       "    <tr>\n",
       "      <th>4</th>\n",
       "      <td>5</td>\n",
       "      <td>AK00101</td>\n",
       "      <td>Anchorage</td>\n",
       "      <td>Municipal Police</td>\n",
       "      <td>Anchorage</td>\n",
       "      <td>Alaska</td>\n",
       "      <td>1980</td>\n",
       "      <td>April</td>\n",
       "      <td>2</td>\n",
       "      <td>Murder or Manslaughter</td>\n",
       "      <td>...</td>\n",
       "      <td>Unknown</td>\n",
       "      <td>Unknown</td>\n",
       "      <td>0</td>\n",
       "      <td>Unknown</td>\n",
       "      <td>Unknown</td>\n",
       "      <td>Unknown</td>\n",
       "      <td>Unknown</td>\n",
       "      <td>0</td>\n",
       "      <td>1</td>\n",
       "      <td>FBI</td>\n",
       "    </tr>\n",
       "  </tbody>\n",
       "</table>\n",
       "<p>5 rows × 24 columns</p>\n",
       "</div>"
      ],
      "text/plain": [
       "   Record ID Agency Code Agency Name       Agency Type       City   State  \\\n",
       "0          1     AK00101   Anchorage  Municipal Police  Anchorage  Alaska   \n",
       "1          2     AK00101   Anchorage  Municipal Police  Anchorage  Alaska   \n",
       "2          3     AK00101   Anchorage  Municipal Police  Anchorage  Alaska   \n",
       "3          4     AK00101   Anchorage  Municipal Police  Anchorage  Alaska   \n",
       "4          5     AK00101   Anchorage  Municipal Police  Anchorage  Alaska   \n",
       "\n",
       "   Year    Month  Incident              Crime Type  ... Victim Ethnicity  \\\n",
       "0  1980  January         1  Murder or Manslaughter  ...          Unknown   \n",
       "1  1980    March         1  Murder or Manslaughter  ...          Unknown   \n",
       "2  1980    March         2  Murder or Manslaughter  ...          Unknown   \n",
       "3  1980    April         1  Murder or Manslaughter  ...          Unknown   \n",
       "4  1980    April         2  Murder or Manslaughter  ...          Unknown   \n",
       "\n",
       "  Perpetrator Sex  Perpetrator Age               Perpetrator Race  \\\n",
       "0            Male               15  Native American/Alaska Native   \n",
       "1            Male               42                          White   \n",
       "2         Unknown                0                        Unknown   \n",
       "3            Male               42                          White   \n",
       "4         Unknown                0                        Unknown   \n",
       "\n",
       "  Perpetrator Ethnicity  Relationship         Weapon Victim Count  \\\n",
       "0               Unknown  Acquaintance   Blunt Object            0   \n",
       "1               Unknown  Acquaintance  Strangulation            0   \n",
       "2               Unknown       Unknown        Unknown            0   \n",
       "3               Unknown  Acquaintance  Strangulation            0   \n",
       "4               Unknown       Unknown        Unknown            0   \n",
       "\n",
       "  Perpetrator Count Record Source  \n",
       "0                 0           FBI  \n",
       "1                 0           FBI  \n",
       "2                 0           FBI  \n",
       "3                 0           FBI  \n",
       "4                 1           FBI  \n",
       "\n",
       "[5 rows x 24 columns]"
      ]
     },
     "execution_count": 4,
     "metadata": {},
     "output_type": "execute_result"
    }
   ],
   "source": [
    "data.head()"
   ]
  },
  {
   "cell_type": "code",
   "execution_count": 5,
   "id": "8499ba30",
   "metadata": {},
   "outputs": [
    {
     "name": "stdout",
     "output_type": "stream",
     "text": [
      "<class 'pandas.core.frame.DataFrame'>\n",
      "RangeIndex: 638453 entries, 0 to 638452\n",
      "Data columns (total 24 columns):\n",
      " #   Column                 Non-Null Count   Dtype \n",
      "---  ------                 --------------   ----- \n",
      " 0   Record ID              638453 non-null  int64 \n",
      " 1   Agency Code            638453 non-null  object\n",
      " 2   Agency Name            638453 non-null  object\n",
      " 3   Agency Type            638453 non-null  object\n",
      " 4   City                   638453 non-null  object\n",
      " 5   State                  638453 non-null  object\n",
      " 6   Year                   638453 non-null  int64 \n",
      " 7   Month                  638453 non-null  object\n",
      " 8   Incident               638453 non-null  int64 \n",
      " 9   Crime Type             638453 non-null  object\n",
      " 10  Crime Solved           638453 non-null  object\n",
      " 11  Victim Sex             638453 non-null  object\n",
      " 12  Victim Age             638453 non-null  int64 \n",
      " 13  Victim Race            638453 non-null  object\n",
      " 14  Victim Ethnicity       638453 non-null  object\n",
      " 15  Perpetrator Sex        638453 non-null  object\n",
      " 16  Perpetrator Age        638453 non-null  int64 \n",
      " 17  Perpetrator Race       638453 non-null  object\n",
      " 18  Perpetrator Ethnicity  638453 non-null  object\n",
      " 19  Relationship           638453 non-null  object\n",
      " 20  Weapon                 638453 non-null  object\n",
      " 21  Victim Count           638453 non-null  int64 \n",
      " 22  Perpetrator Count      638453 non-null  int64 \n",
      " 23  Record Source          638453 non-null  object\n",
      "dtypes: int64(7), object(17)\n",
      "memory usage: 116.9+ MB\n"
     ]
    }
   ],
   "source": [
    "data.info()"
   ]
  },
  {
   "cell_type": "code",
   "execution_count": 119,
   "id": "f6819361",
   "metadata": {},
   "outputs": [
    {
     "data": {
      "text/plain": [
       "Record ID                0\n",
       "Agency Code              0\n",
       "Agency Name              0\n",
       "Agency Type              0\n",
       "City                     0\n",
       "State                    0\n",
       "Year                     0\n",
       "Month                    0\n",
       "Incident                 0\n",
       "Crime Type               0\n",
       "Crime Solved             0\n",
       "Victim Sex               0\n",
       "Victim Age               0\n",
       "Victim Race              0\n",
       "Victim Ethnicity         0\n",
       "Perpetrator Sex          0\n",
       "Perpetrator Age          0\n",
       "Perpetrator Race         0\n",
       "Perpetrator Ethnicity    0\n",
       "Relationship             0\n",
       "Weapon                   0\n",
       "Victim Count             0\n",
       "Perpetrator Count        0\n",
       "Record Source            0\n",
       "dtype: int64"
      ]
     },
     "execution_count": 119,
     "metadata": {},
     "output_type": "execute_result"
    }
   ],
   "source": [
    "data.isnull().sum()"
   ]
  },
  {
   "cell_type": "markdown",
   "id": "6cb1de17",
   "metadata": {},
   "source": [
    "# Data Preprocessing"
   ]
  },
  {
   "cell_type": "markdown",
   "id": "f86e3da7",
   "metadata": {},
   "source": [
    "## Encoding of Categorical variables"
   ]
  },
  {
   "cell_type": "code",
   "execution_count": 120,
   "id": "69c6b288",
   "metadata": {},
   "outputs": [
    {
     "data": {
      "text/plain": [
       "Index(['Record ID', 'Year', 'Incident', 'Victim Age', 'Perpetrator Age',\n",
       "       'Victim Count', 'Perpetrator Count'],\n",
       "      dtype='object')"
      ]
     },
     "execution_count": 120,
     "metadata": {},
     "output_type": "execute_result"
    }
   ],
   "source": [
    "category_columns=data.select_dtypes(exclude='number')\n",
    "numeric_columns=data.select_dtypes(include='number')\n",
    "numeric_columns.columns"
   ]
  },
  {
   "cell_type": "code",
   "execution_count": 121,
   "id": "7cf53b6f",
   "metadata": {},
   "outputs": [
    {
     "data": {
      "text/html": [
       "<div>\n",
       "<style scoped>\n",
       "    .dataframe tbody tr th:only-of-type {\n",
       "        vertical-align: middle;\n",
       "    }\n",
       "\n",
       "    .dataframe tbody tr th {\n",
       "        vertical-align: top;\n",
       "    }\n",
       "\n",
       "    .dataframe thead th {\n",
       "        text-align: right;\n",
       "    }\n",
       "</style>\n",
       "<table border=\"1\" class=\"dataframe\">\n",
       "  <thead>\n",
       "    <tr style=\"text-align: right;\">\n",
       "      <th></th>\n",
       "      <th>Agency Code</th>\n",
       "      <th>Agency Name</th>\n",
       "      <th>Agency Type</th>\n",
       "      <th>City</th>\n",
       "      <th>State</th>\n",
       "      <th>Month</th>\n",
       "      <th>Crime Type</th>\n",
       "      <th>Crime Solved</th>\n",
       "      <th>Victim Sex</th>\n",
       "      <th>Victim Race</th>\n",
       "      <th>Victim Ethnicity</th>\n",
       "      <th>Perpetrator Sex</th>\n",
       "      <th>Perpetrator Race</th>\n",
       "      <th>Perpetrator Ethnicity</th>\n",
       "      <th>Relationship</th>\n",
       "      <th>Weapon</th>\n",
       "      <th>Record Source</th>\n",
       "    </tr>\n",
       "  </thead>\n",
       "  <tbody>\n",
       "    <tr>\n",
       "      <th>0</th>\n",
       "      <td>0</td>\n",
       "      <td>149</td>\n",
       "      <td>1</td>\n",
       "      <td>35</td>\n",
       "      <td>1</td>\n",
       "      <td>4</td>\n",
       "      <td>1</td>\n",
       "      <td>1</td>\n",
       "      <td>1</td>\n",
       "      <td>2</td>\n",
       "      <td>2</td>\n",
       "      <td>1</td>\n",
       "      <td>2</td>\n",
       "      <td>2</td>\n",
       "      <td>0</td>\n",
       "      <td>0</td>\n",
       "      <td>0</td>\n",
       "    </tr>\n",
       "    <tr>\n",
       "      <th>1</th>\n",
       "      <td>0</td>\n",
       "      <td>149</td>\n",
       "      <td>1</td>\n",
       "      <td>35</td>\n",
       "      <td>1</td>\n",
       "      <td>7</td>\n",
       "      <td>1</td>\n",
       "      <td>1</td>\n",
       "      <td>1</td>\n",
       "      <td>4</td>\n",
       "      <td>2</td>\n",
       "      <td>1</td>\n",
       "      <td>4</td>\n",
       "      <td>2</td>\n",
       "      <td>0</td>\n",
       "      <td>13</td>\n",
       "      <td>0</td>\n",
       "    </tr>\n",
       "    <tr>\n",
       "      <th>2</th>\n",
       "      <td>0</td>\n",
       "      <td>149</td>\n",
       "      <td>1</td>\n",
       "      <td>35</td>\n",
       "      <td>1</td>\n",
       "      <td>7</td>\n",
       "      <td>1</td>\n",
       "      <td>0</td>\n",
       "      <td>0</td>\n",
       "      <td>2</td>\n",
       "      <td>2</td>\n",
       "      <td>2</td>\n",
       "      <td>3</td>\n",
       "      <td>2</td>\n",
       "      <td>26</td>\n",
       "      <td>15</td>\n",
       "      <td>0</td>\n",
       "    </tr>\n",
       "    <tr>\n",
       "      <th>3</th>\n",
       "      <td>0</td>\n",
       "      <td>149</td>\n",
       "      <td>1</td>\n",
       "      <td>35</td>\n",
       "      <td>1</td>\n",
       "      <td>0</td>\n",
       "      <td>1</td>\n",
       "      <td>1</td>\n",
       "      <td>1</td>\n",
       "      <td>4</td>\n",
       "      <td>2</td>\n",
       "      <td>1</td>\n",
       "      <td>4</td>\n",
       "      <td>2</td>\n",
       "      <td>0</td>\n",
       "      <td>13</td>\n",
       "      <td>0</td>\n",
       "    </tr>\n",
       "    <tr>\n",
       "      <th>4</th>\n",
       "      <td>0</td>\n",
       "      <td>149</td>\n",
       "      <td>1</td>\n",
       "      <td>35</td>\n",
       "      <td>1</td>\n",
       "      <td>0</td>\n",
       "      <td>1</td>\n",
       "      <td>0</td>\n",
       "      <td>0</td>\n",
       "      <td>2</td>\n",
       "      <td>2</td>\n",
       "      <td>2</td>\n",
       "      <td>3</td>\n",
       "      <td>2</td>\n",
       "      <td>26</td>\n",
       "      <td>15</td>\n",
       "      <td>0</td>\n",
       "    </tr>\n",
       "  </tbody>\n",
       "</table>\n",
       "</div>"
      ],
      "text/plain": [
       "   Agency Code  Agency Name  Agency Type  City  State  Month  Crime Type  \\\n",
       "0            0          149            1    35      1      4           1   \n",
       "1            0          149            1    35      1      7           1   \n",
       "2            0          149            1    35      1      7           1   \n",
       "3            0          149            1    35      1      0           1   \n",
       "4            0          149            1    35      1      0           1   \n",
       "\n",
       "   Crime Solved  Victim Sex  Victim Race  Victim Ethnicity  Perpetrator Sex  \\\n",
       "0             1           1            2                 2                1   \n",
       "1             1           1            4                 2                1   \n",
       "2             0           0            2                 2                2   \n",
       "3             1           1            4                 2                1   \n",
       "4             0           0            2                 2                2   \n",
       "\n",
       "   Perpetrator Race  Perpetrator Ethnicity  Relationship  Weapon  \\\n",
       "0                 2                      2             0       0   \n",
       "1                 4                      2             0      13   \n",
       "2                 3                      2            26      15   \n",
       "3                 4                      2             0      13   \n",
       "4                 3                      2            26      15   \n",
       "\n",
       "   Record Source  \n",
       "0              0  \n",
       "1              0  \n",
       "2              0  \n",
       "3              0  \n",
       "4              0  "
      ]
     },
     "execution_count": 121,
     "metadata": {},
     "output_type": "execute_result"
    }
   ],
   "source": [
    "le = preprocessing.LabelEncoder()\n",
    "# use df.apply() to apply le.fit_transform to all columns\n",
    "c = category_columns.apply(le.fit_transform)\n",
    "c.head()"
   ]
  },
  {
   "cell_type": "code",
   "execution_count": 122,
   "id": "c4130960",
   "metadata": {},
   "outputs": [],
   "source": [
    "data=pd.concat([c,numeric_columns],ignore_index=False,axis=1)"
   ]
  },
  {
   "cell_type": "code",
   "execution_count": 123,
   "id": "2c8159b4",
   "metadata": {},
   "outputs": [
    {
     "data": {
      "text/html": [
       "<div>\n",
       "<style scoped>\n",
       "    .dataframe tbody tr th:only-of-type {\n",
       "        vertical-align: middle;\n",
       "    }\n",
       "\n",
       "    .dataframe tbody tr th {\n",
       "        vertical-align: top;\n",
       "    }\n",
       "\n",
       "    .dataframe thead th {\n",
       "        text-align: right;\n",
       "    }\n",
       "</style>\n",
       "<table border=\"1\" class=\"dataframe\">\n",
       "  <thead>\n",
       "    <tr style=\"text-align: right;\">\n",
       "      <th></th>\n",
       "      <th>Agency Code</th>\n",
       "      <th>Agency Name</th>\n",
       "      <th>Agency Type</th>\n",
       "      <th>City</th>\n",
       "      <th>State</th>\n",
       "      <th>Month</th>\n",
       "      <th>Crime Type</th>\n",
       "      <th>Crime Solved</th>\n",
       "      <th>Victim Sex</th>\n",
       "      <th>Victim Race</th>\n",
       "      <th>...</th>\n",
       "      <th>Relationship</th>\n",
       "      <th>Weapon</th>\n",
       "      <th>Record Source</th>\n",
       "      <th>Record ID</th>\n",
       "      <th>Year</th>\n",
       "      <th>Incident</th>\n",
       "      <th>Victim Age</th>\n",
       "      <th>Perpetrator Age</th>\n",
       "      <th>Victim Count</th>\n",
       "      <th>Perpetrator Count</th>\n",
       "    </tr>\n",
       "  </thead>\n",
       "  <tbody>\n",
       "    <tr>\n",
       "      <th>0</th>\n",
       "      <td>0</td>\n",
       "      <td>149</td>\n",
       "      <td>1</td>\n",
       "      <td>35</td>\n",
       "      <td>1</td>\n",
       "      <td>4</td>\n",
       "      <td>1</td>\n",
       "      <td>1</td>\n",
       "      <td>1</td>\n",
       "      <td>2</td>\n",
       "      <td>...</td>\n",
       "      <td>0</td>\n",
       "      <td>0</td>\n",
       "      <td>0</td>\n",
       "      <td>1</td>\n",
       "      <td>1980</td>\n",
       "      <td>1</td>\n",
       "      <td>14</td>\n",
       "      <td>15</td>\n",
       "      <td>0</td>\n",
       "      <td>0</td>\n",
       "    </tr>\n",
       "    <tr>\n",
       "      <th>1</th>\n",
       "      <td>0</td>\n",
       "      <td>149</td>\n",
       "      <td>1</td>\n",
       "      <td>35</td>\n",
       "      <td>1</td>\n",
       "      <td>7</td>\n",
       "      <td>1</td>\n",
       "      <td>1</td>\n",
       "      <td>1</td>\n",
       "      <td>4</td>\n",
       "      <td>...</td>\n",
       "      <td>0</td>\n",
       "      <td>13</td>\n",
       "      <td>0</td>\n",
       "      <td>2</td>\n",
       "      <td>1980</td>\n",
       "      <td>1</td>\n",
       "      <td>43</td>\n",
       "      <td>42</td>\n",
       "      <td>0</td>\n",
       "      <td>0</td>\n",
       "    </tr>\n",
       "    <tr>\n",
       "      <th>2</th>\n",
       "      <td>0</td>\n",
       "      <td>149</td>\n",
       "      <td>1</td>\n",
       "      <td>35</td>\n",
       "      <td>1</td>\n",
       "      <td>7</td>\n",
       "      <td>1</td>\n",
       "      <td>0</td>\n",
       "      <td>0</td>\n",
       "      <td>2</td>\n",
       "      <td>...</td>\n",
       "      <td>26</td>\n",
       "      <td>15</td>\n",
       "      <td>0</td>\n",
       "      <td>3</td>\n",
       "      <td>1980</td>\n",
       "      <td>2</td>\n",
       "      <td>30</td>\n",
       "      <td>0</td>\n",
       "      <td>0</td>\n",
       "      <td>0</td>\n",
       "    </tr>\n",
       "    <tr>\n",
       "      <th>3</th>\n",
       "      <td>0</td>\n",
       "      <td>149</td>\n",
       "      <td>1</td>\n",
       "      <td>35</td>\n",
       "      <td>1</td>\n",
       "      <td>0</td>\n",
       "      <td>1</td>\n",
       "      <td>1</td>\n",
       "      <td>1</td>\n",
       "      <td>4</td>\n",
       "      <td>...</td>\n",
       "      <td>0</td>\n",
       "      <td>13</td>\n",
       "      <td>0</td>\n",
       "      <td>4</td>\n",
       "      <td>1980</td>\n",
       "      <td>1</td>\n",
       "      <td>43</td>\n",
       "      <td>42</td>\n",
       "      <td>0</td>\n",
       "      <td>0</td>\n",
       "    </tr>\n",
       "    <tr>\n",
       "      <th>4</th>\n",
       "      <td>0</td>\n",
       "      <td>149</td>\n",
       "      <td>1</td>\n",
       "      <td>35</td>\n",
       "      <td>1</td>\n",
       "      <td>0</td>\n",
       "      <td>1</td>\n",
       "      <td>0</td>\n",
       "      <td>0</td>\n",
       "      <td>2</td>\n",
       "      <td>...</td>\n",
       "      <td>26</td>\n",
       "      <td>15</td>\n",
       "      <td>0</td>\n",
       "      <td>5</td>\n",
       "      <td>1980</td>\n",
       "      <td>2</td>\n",
       "      <td>30</td>\n",
       "      <td>0</td>\n",
       "      <td>0</td>\n",
       "      <td>1</td>\n",
       "    </tr>\n",
       "  </tbody>\n",
       "</table>\n",
       "<p>5 rows × 24 columns</p>\n",
       "</div>"
      ],
      "text/plain": [
       "   Agency Code  Agency Name  Agency Type  City  State  Month  Crime Type  \\\n",
       "0            0          149            1    35      1      4           1   \n",
       "1            0          149            1    35      1      7           1   \n",
       "2            0          149            1    35      1      7           1   \n",
       "3            0          149            1    35      1      0           1   \n",
       "4            0          149            1    35      1      0           1   \n",
       "\n",
       "   Crime Solved  Victim Sex  Victim Race  ...  Relationship  Weapon  \\\n",
       "0             1           1            2  ...             0       0   \n",
       "1             1           1            4  ...             0      13   \n",
       "2             0           0            2  ...            26      15   \n",
       "3             1           1            4  ...             0      13   \n",
       "4             0           0            2  ...            26      15   \n",
       "\n",
       "   Record Source  Record ID  Year  Incident  Victim Age  Perpetrator Age  \\\n",
       "0              0          1  1980         1          14               15   \n",
       "1              0          2  1980         1          43               42   \n",
       "2              0          3  1980         2          30                0   \n",
       "3              0          4  1980         1          43               42   \n",
       "4              0          5  1980         2          30                0   \n",
       "\n",
       "   Victim Count  Perpetrator Count  \n",
       "0             0                  0  \n",
       "1             0                  0  \n",
       "2             0                  0  \n",
       "3             0                  0  \n",
       "4             0                  1  \n",
       "\n",
       "[5 rows x 24 columns]"
      ]
     },
     "execution_count": 123,
     "metadata": {},
     "output_type": "execute_result"
    }
   ],
   "source": [
    "data.head()"
   ]
  },
  {
   "cell_type": "code",
   "execution_count": 124,
   "id": "e0139eac",
   "metadata": {},
   "outputs": [
    {
     "data": {
      "text/plain": [
       "(638453, 24)"
      ]
     },
     "execution_count": 124,
     "metadata": {},
     "output_type": "execute_result"
    }
   ],
   "source": [
    "data.shape"
   ]
  },
  {
   "cell_type": "code",
   "execution_count": 125,
   "id": "ae823b34",
   "metadata": {},
   "outputs": [],
   "source": [
    "data.drop(data[data['Perpetrator Sex'] == 0 ].index, inplace = True)"
   ]
  },
  {
   "cell_type": "code",
   "execution_count": 126,
   "id": "06c210d5",
   "metadata": {},
   "outputs": [],
   "source": [
    "X1=data.drop(['Perpetrator Age'],axis=1)"
   ]
  },
  {
   "cell_type": "code",
   "execution_count": 127,
   "id": "4873c8b2",
   "metadata": {},
   "outputs": [],
   "source": [
    "Y1=data[['Perpetrator Age']]"
   ]
  },
  {
   "cell_type": "code",
   "execution_count": 128,
   "id": "5ba454d2",
   "metadata": {},
   "outputs": [],
   "source": [
    "X2=data.drop(['Perpetrator Sex'],axis=1)"
   ]
  },
  {
   "cell_type": "code",
   "execution_count": 129,
   "id": "e58062f4",
   "metadata": {},
   "outputs": [],
   "source": [
    "Y2=data[['Perpetrator Sex']]"
   ]
  },
  {
   "cell_type": "markdown",
   "id": "f2823f2e",
   "metadata": {},
   "source": [
    "## Scaling of Numeric DATA"
   ]
  },
  {
   "cell_type": "code",
   "execution_count": 130,
   "id": "755272be",
   "metadata": {},
   "outputs": [],
   "source": [
    "scaler=preprocessing.StandardScaler()\n",
    "X1=scaler.fit_transform(X1)\n",
    "X2=scaler.fit_transform(X2)"
   ]
  },
  {
   "cell_type": "markdown",
   "id": "15a0a2e1",
   "metadata": {},
   "source": [
    "# Data spliting into 30% test and 70% train set"
   ]
  },
  {
   "cell_type": "code",
   "execution_count": 131,
   "id": "35782ebc",
   "metadata": {},
   "outputs": [],
   "source": [
    "x_train_age,x_test_age,y_train_age,y_test_age=train_test_split(X1,Y1,test_size=0.30,random_state=12)"
   ]
  },
  {
   "cell_type": "code",
   "execution_count": 132,
   "id": "294d6bca",
   "metadata": {},
   "outputs": [
    {
     "name": "stdout",
     "output_type": "stream",
     "text": [
      "Shape of X_train (412933, 23), y_train (412933, 1), X_test (176972, 23) and y_test (176972, 1)\n"
     ]
    }
   ],
   "source": [
    "print(f'Shape of X_train {x_train_age.shape}, y_train {y_train_age.shape}, X_test {x_test_age.shape} and y_test {y_test_age.shape}')"
   ]
  },
  {
   "cell_type": "code",
   "execution_count": 133,
   "id": "59a9b5a1",
   "metadata": {},
   "outputs": [],
   "source": [
    "x_train_sex,x_test_sex,y_train_sex,y_test_sex=train_test_split(X2,Y2,test_size=0.30,random_state=12)"
   ]
  },
  {
   "cell_type": "code",
   "execution_count": 134,
   "id": "a3ed7dd5",
   "metadata": {},
   "outputs": [
    {
     "name": "stdout",
     "output_type": "stream",
     "text": [
      "Shape of X_train (412933, 23), y_train (412933, 1), X_test (176972, 23) and y_test (176972, 1)\n"
     ]
    }
   ],
   "source": [
    "print(f'Shape of X_train {x_train_sex.shape}, y_train {y_train_sex.shape}, X_test {x_test_sex.shape} and y_test {y_test_sex.shape}')"
   ]
  },
  {
   "cell_type": "code",
   "execution_count": 135,
   "id": "469f42c7",
   "metadata": {},
   "outputs": [],
   "source": [
    "y_train_age=y_train_age.values.ravel()\n",
    "y_test_age=y_test_age.values.ravel()\n",
    "y_train_sex=y_train_sex.values.ravel()\n",
    "y_test_sex=y_test_sex.values.ravel()"
   ]
  },
  {
   "cell_type": "markdown",
   "id": "420bdc21",
   "metadata": {},
   "source": [
    "## Prediction of Preparator Age "
   ]
  },
  {
   "cell_type": "markdown",
   "id": "abddbc12",
   "metadata": {},
   "source": [
    "### Linear Regression Model"
   ]
  },
  {
   "cell_type": "code",
   "execution_count": 136,
   "id": "91048b2a",
   "metadata": {},
   "outputs": [],
   "source": [
    "linreg_model=LinearRegression()"
   ]
  },
  {
   "cell_type": "markdown",
   "id": "2f5f5fa1",
   "metadata": {},
   "source": [
    "### Hyperparameter Tuning"
   ]
  },
  {
   "cell_type": "code",
   "execution_count": 137,
   "id": "aa3559ff",
   "metadata": {},
   "outputs": [
    {
     "name": "stdout",
     "output_type": "stream",
     "text": [
      "{'copy_X': True, 'fit_intercept': True, 'n_jobs': None, 'normalize': 'deprecated', 'positive': False}\n"
     ]
    }
   ],
   "source": [
    "print(linreg_model.get_params())"
   ]
  },
  {
   "cell_type": "code",
   "execution_count": 138,
   "id": "cd4eae79",
   "metadata": {},
   "outputs": [],
   "source": [
    "Parameter={\n",
    "          'positive':[False,True],\n",
    "          'fit_intercept': [True,False],\n",
    "        'copy_X': [True,False]  \n",
    "          }"
   ]
  },
  {
   "cell_type": "code",
   "execution_count": 139,
   "id": "83fed3aa",
   "metadata": {},
   "outputs": [
    {
     "name": "stdout",
     "output_type": "stream",
     "text": [
      "Best Score is 0.60 using {'copy_X': True, 'fit_intercept': True, 'positive': False}\n"
     ]
    }
   ],
   "source": [
    "linreg_model = GridSearchCV(linreg_model, Parameter)\n",
    "searchResults=linreg_model.fit(x_train_age,y_train_age)\n",
    "# summarize grid search information\n",
    "bestScore = searchResults.best_score_\n",
    "bestParams = searchResults.best_params_\n",
    "print(\"Best Score is {:.2f} using {}\".format(bestScore,bestParams))"
   ]
  },
  {
   "cell_type": "code",
   "execution_count": 140,
   "id": "0bcba759",
   "metadata": {},
   "outputs": [
    {
     "name": "stdout",
     "output_type": "stream",
     "text": [
      "Linear Regression Mean absolute error: 7.4125287058549665, Mean Squared error: 128.17421453858591,Adjusted R Square Error: 0.597934519365203\n"
     ]
    }
   ],
   "source": [
    "y_pred_age=linreg_model.predict(x_test_age)\n",
    "print(f'Linear Regression Mean absolute error: {mean_absolute_error(y_test_age, y_pred_age)}, Mean Squared error: {mean_squared_error(y_test_age, y_pred_age)},Adjusted R Square Error: {r2_score(y_test_age, y_pred_age)}')"
   ]
  },
  {
   "cell_type": "markdown",
   "id": "f642472b",
   "metadata": {},
   "source": [
    "## Random Forest Regressor"
   ]
  },
  {
   "cell_type": "code",
   "execution_count": 167,
   "id": "ba5a50a1",
   "metadata": {},
   "outputs": [],
   "source": [
    "rfr=RandomForestRegressor()"
   ]
  },
  {
   "cell_type": "markdown",
   "id": "f833c42b",
   "metadata": {},
   "source": [
    "## Hyperparameter"
   ]
  },
  {
   "cell_type": "code",
   "execution_count": 168,
   "id": "a733248e",
   "metadata": {},
   "outputs": [
    {
     "name": "stdout",
     "output_type": "stream",
     "text": [
      "{'bootstrap': True, 'ccp_alpha': 0.0, 'criterion': 'squared_error', 'max_depth': None, 'max_features': 1.0, 'max_leaf_nodes': None, 'max_samples': None, 'min_impurity_decrease': 0.0, 'min_samples_leaf': 1, 'min_samples_split': 2, 'min_weight_fraction_leaf': 0.0, 'n_estimators': 100, 'n_jobs': None, 'oob_score': False, 'random_state': None, 'verbose': 0, 'warm_start': False}\n"
     ]
    }
   ],
   "source": [
    "print(rfr.get_params())"
   ]
  },
  {
   "cell_type": "code",
   "execution_count": 169,
   "id": "7edb2ec4",
   "metadata": {},
   "outputs": [],
   "source": [
    "Parameter={\n",
    "          'max_depth':[None,3,5,7],\n",
    "          'max_samples': [2,4,6], \n",
    "        'min_samples_leaf': [1,3,4],\n",
    "        'n_estimators':[50,100,150,200,300]\n",
    "          }"
   ]
  },
  {
   "cell_type": "code",
   "execution_count": 170,
   "id": "691b88bc",
   "metadata": {},
   "outputs": [
    {
     "name": "stdout",
     "output_type": "stream",
     "text": [
      "Best Score is 0.40 using {'max_depth': 5, 'max_samples': 6, 'min_samples_leaf': 1, 'n_estimators': 50}\n"
     ]
    }
   ],
   "source": [
    "rfr = GridSearchCV(rfr, Parameter)\n",
    "searchResults=rfr.fit(x_train_age,y_train_age)\n",
    "# summarize grid search information\n",
    "bestScore = searchResults.best_score_\n",
    "bestParams = searchResults.best_params_\n",
    "print(\"Best Score is {:.2f} using {}\".format(bestScore,bestParams))"
   ]
  },
  {
   "cell_type": "code",
   "execution_count": 171,
   "id": "cc9d58a2",
   "metadata": {},
   "outputs": [
    {
     "name": "stdout",
     "output_type": "stream",
     "text": [
      "Linear Regression Mean absolute error: 11.360330786791131, Mean Squared error: 207.19060644395717,Adjusted R Square Error: 0.3500705967827361\n"
     ]
    }
   ],
   "source": [
    "y_pred_age=rfr.predict(x_test_age)\n",
    "print(f'Random Forest Mean absolute error: {mean_absolute_error(y_test_age, y_pred_age)}, Mean Squared error: {mean_squared_error(y_test_age, y_pred_age)},Adjusted R Square Error: {r2_score(y_test_age, y_pred_age)}')"
   ]
  },
  {
   "cell_type": "markdown",
   "id": "7a194543",
   "metadata": {},
   "source": [
    "## Classification of Preparator Gender"
   ]
  },
  {
   "cell_type": "markdown",
   "id": "3f5eec4d",
   "metadata": {},
   "source": [
    "### Logistic Regression"
   ]
  },
  {
   "cell_type": "code",
   "execution_count": 172,
   "id": "cdefa211",
   "metadata": {},
   "outputs": [],
   "source": [
    "logreg_model= LogisticRegression(max_iter=400)"
   ]
  },
  {
   "cell_type": "code",
   "execution_count": 173,
   "id": "11676ad2",
   "metadata": {},
   "outputs": [
    {
     "data": {
      "text/html": [
       "<style>#sk-container-id-2 {color: black;background-color: white;}#sk-container-id-2 pre{padding: 0;}#sk-container-id-2 div.sk-toggleable {background-color: white;}#sk-container-id-2 label.sk-toggleable__label {cursor: pointer;display: block;width: 100%;margin-bottom: 0;padding: 0.3em;box-sizing: border-box;text-align: center;}#sk-container-id-2 label.sk-toggleable__label-arrow:before {content: \"▸\";float: left;margin-right: 0.25em;color: #696969;}#sk-container-id-2 label.sk-toggleable__label-arrow:hover:before {color: black;}#sk-container-id-2 div.sk-estimator:hover label.sk-toggleable__label-arrow:before {color: black;}#sk-container-id-2 div.sk-toggleable__content {max-height: 0;max-width: 0;overflow: hidden;text-align: left;background-color: #f0f8ff;}#sk-container-id-2 div.sk-toggleable__content pre {margin: 0.2em;color: black;border-radius: 0.25em;background-color: #f0f8ff;}#sk-container-id-2 input.sk-toggleable__control:checked~div.sk-toggleable__content {max-height: 200px;max-width: 100%;overflow: auto;}#sk-container-id-2 input.sk-toggleable__control:checked~label.sk-toggleable__label-arrow:before {content: \"▾\";}#sk-container-id-2 div.sk-estimator input.sk-toggleable__control:checked~label.sk-toggleable__label {background-color: #d4ebff;}#sk-container-id-2 div.sk-label input.sk-toggleable__control:checked~label.sk-toggleable__label {background-color: #d4ebff;}#sk-container-id-2 input.sk-hidden--visually {border: 0;clip: rect(1px 1px 1px 1px);clip: rect(1px, 1px, 1px, 1px);height: 1px;margin: -1px;overflow: hidden;padding: 0;position: absolute;width: 1px;}#sk-container-id-2 div.sk-estimator {font-family: monospace;background-color: #f0f8ff;border: 1px dotted black;border-radius: 0.25em;box-sizing: border-box;margin-bottom: 0.5em;}#sk-container-id-2 div.sk-estimator:hover {background-color: #d4ebff;}#sk-container-id-2 div.sk-parallel-item::after {content: \"\";width: 100%;border-bottom: 1px solid gray;flex-grow: 1;}#sk-container-id-2 div.sk-label:hover label.sk-toggleable__label {background-color: #d4ebff;}#sk-container-id-2 div.sk-serial::before {content: \"\";position: absolute;border-left: 1px solid gray;box-sizing: border-box;top: 0;bottom: 0;left: 50%;z-index: 0;}#sk-container-id-2 div.sk-serial {display: flex;flex-direction: column;align-items: center;background-color: white;padding-right: 0.2em;padding-left: 0.2em;position: relative;}#sk-container-id-2 div.sk-item {position: relative;z-index: 1;}#sk-container-id-2 div.sk-parallel {display: flex;align-items: stretch;justify-content: center;background-color: white;position: relative;}#sk-container-id-2 div.sk-item::before, #sk-container-id-2 div.sk-parallel-item::before {content: \"\";position: absolute;border-left: 1px solid gray;box-sizing: border-box;top: 0;bottom: 0;left: 50%;z-index: -1;}#sk-container-id-2 div.sk-parallel-item {display: flex;flex-direction: column;z-index: 1;position: relative;background-color: white;}#sk-container-id-2 div.sk-parallel-item:first-child::after {align-self: flex-end;width: 50%;}#sk-container-id-2 div.sk-parallel-item:last-child::after {align-self: flex-start;width: 50%;}#sk-container-id-2 div.sk-parallel-item:only-child::after {width: 0;}#sk-container-id-2 div.sk-dashed-wrapped {border: 1px dashed gray;margin: 0 0.4em 0.5em 0.4em;box-sizing: border-box;padding-bottom: 0.4em;background-color: white;}#sk-container-id-2 div.sk-label label {font-family: monospace;font-weight: bold;display: inline-block;line-height: 1.2em;}#sk-container-id-2 div.sk-label-container {text-align: center;}#sk-container-id-2 div.sk-container {/* jupyter's `normalize.less` sets `[hidden] { display: none; }` but bootstrap.min.css set `[hidden] { display: none !important; }` so we also need the `!important` here to be able to override the default hidden behavior on the sphinx rendered scikit-learn.org. See: https://github.com/scikit-learn/scikit-learn/issues/21755 */display: inline-block !important;position: relative;}#sk-container-id-2 div.sk-text-repr-fallback {display: none;}</style><div id=\"sk-container-id-2\" class=\"sk-top-container\"><div class=\"sk-text-repr-fallback\"><pre>LogisticRegression(max_iter=400)</pre><b>In a Jupyter environment, please rerun this cell to show the HTML representation or trust the notebook. <br />On GitHub, the HTML representation is unable to render, please try loading this page with nbviewer.org.</b></div><div class=\"sk-container\" hidden><div class=\"sk-item\"><div class=\"sk-estimator sk-toggleable\"><input class=\"sk-toggleable__control sk-hidden--visually\" id=\"sk-estimator-id-2\" type=\"checkbox\" checked><label for=\"sk-estimator-id-2\" class=\"sk-toggleable__label sk-toggleable__label-arrow\">LogisticRegression</label><div class=\"sk-toggleable__content\"><pre>LogisticRegression(max_iter=400)</pre></div></div></div></div></div>"
      ],
      "text/plain": [
       "LogisticRegression(max_iter=400)"
      ]
     },
     "execution_count": 173,
     "metadata": {},
     "output_type": "execute_result"
    }
   ],
   "source": [
    "logreg_model.fit(x_train_sex,y_train_sex)"
   ]
  },
  {
   "cell_type": "code",
   "execution_count": 174,
   "id": "efac0b0c",
   "metadata": {},
   "outputs": [
    {
     "name": "stdout",
     "output_type": "stream",
     "text": [
      "              precision    recall  f1-score   support\n",
      "\n",
      "           1       1.00      1.00      1.00    119787\n",
      "           2       1.00      1.00      1.00     57185\n",
      "\n",
      "    accuracy                           1.00    176972\n",
      "   macro avg       1.00      1.00      1.00    176972\n",
      "weighted avg       1.00      1.00      1.00    176972\n",
      "\n"
     ]
    }
   ],
   "source": [
    "y_pred_sex=logreg_model.predict(x_test_sex)\n",
    "print(classification_report(y_test_sex,y_pred_sex))"
   ]
  },
  {
   "cell_type": "code",
   "execution_count": 175,
   "id": "3712ac45",
   "metadata": {},
   "outputs": [],
   "source": [
    "rfc=RandomForestClassifier()"
   ]
  },
  {
   "cell_type": "code",
   "execution_count": 176,
   "id": "2b5f969a",
   "metadata": {},
   "outputs": [
    {
     "data": {
      "text/html": [
       "<style>#sk-container-id-3 {color: black;background-color: white;}#sk-container-id-3 pre{padding: 0;}#sk-container-id-3 div.sk-toggleable {background-color: white;}#sk-container-id-3 label.sk-toggleable__label {cursor: pointer;display: block;width: 100%;margin-bottom: 0;padding: 0.3em;box-sizing: border-box;text-align: center;}#sk-container-id-3 label.sk-toggleable__label-arrow:before {content: \"▸\";float: left;margin-right: 0.25em;color: #696969;}#sk-container-id-3 label.sk-toggleable__label-arrow:hover:before {color: black;}#sk-container-id-3 div.sk-estimator:hover label.sk-toggleable__label-arrow:before {color: black;}#sk-container-id-3 div.sk-toggleable__content {max-height: 0;max-width: 0;overflow: hidden;text-align: left;background-color: #f0f8ff;}#sk-container-id-3 div.sk-toggleable__content pre {margin: 0.2em;color: black;border-radius: 0.25em;background-color: #f0f8ff;}#sk-container-id-3 input.sk-toggleable__control:checked~div.sk-toggleable__content {max-height: 200px;max-width: 100%;overflow: auto;}#sk-container-id-3 input.sk-toggleable__control:checked~label.sk-toggleable__label-arrow:before {content: \"▾\";}#sk-container-id-3 div.sk-estimator input.sk-toggleable__control:checked~label.sk-toggleable__label {background-color: #d4ebff;}#sk-container-id-3 div.sk-label input.sk-toggleable__control:checked~label.sk-toggleable__label {background-color: #d4ebff;}#sk-container-id-3 input.sk-hidden--visually {border: 0;clip: rect(1px 1px 1px 1px);clip: rect(1px, 1px, 1px, 1px);height: 1px;margin: -1px;overflow: hidden;padding: 0;position: absolute;width: 1px;}#sk-container-id-3 div.sk-estimator {font-family: monospace;background-color: #f0f8ff;border: 1px dotted black;border-radius: 0.25em;box-sizing: border-box;margin-bottom: 0.5em;}#sk-container-id-3 div.sk-estimator:hover {background-color: #d4ebff;}#sk-container-id-3 div.sk-parallel-item::after {content: \"\";width: 100%;border-bottom: 1px solid gray;flex-grow: 1;}#sk-container-id-3 div.sk-label:hover label.sk-toggleable__label {background-color: #d4ebff;}#sk-container-id-3 div.sk-serial::before {content: \"\";position: absolute;border-left: 1px solid gray;box-sizing: border-box;top: 0;bottom: 0;left: 50%;z-index: 0;}#sk-container-id-3 div.sk-serial {display: flex;flex-direction: column;align-items: center;background-color: white;padding-right: 0.2em;padding-left: 0.2em;position: relative;}#sk-container-id-3 div.sk-item {position: relative;z-index: 1;}#sk-container-id-3 div.sk-parallel {display: flex;align-items: stretch;justify-content: center;background-color: white;position: relative;}#sk-container-id-3 div.sk-item::before, #sk-container-id-3 div.sk-parallel-item::before {content: \"\";position: absolute;border-left: 1px solid gray;box-sizing: border-box;top: 0;bottom: 0;left: 50%;z-index: -1;}#sk-container-id-3 div.sk-parallel-item {display: flex;flex-direction: column;z-index: 1;position: relative;background-color: white;}#sk-container-id-3 div.sk-parallel-item:first-child::after {align-self: flex-end;width: 50%;}#sk-container-id-3 div.sk-parallel-item:last-child::after {align-self: flex-start;width: 50%;}#sk-container-id-3 div.sk-parallel-item:only-child::after {width: 0;}#sk-container-id-3 div.sk-dashed-wrapped {border: 1px dashed gray;margin: 0 0.4em 0.5em 0.4em;box-sizing: border-box;padding-bottom: 0.4em;background-color: white;}#sk-container-id-3 div.sk-label label {font-family: monospace;font-weight: bold;display: inline-block;line-height: 1.2em;}#sk-container-id-3 div.sk-label-container {text-align: center;}#sk-container-id-3 div.sk-container {/* jupyter's `normalize.less` sets `[hidden] { display: none; }` but bootstrap.min.css set `[hidden] { display: none !important; }` so we also need the `!important` here to be able to override the default hidden behavior on the sphinx rendered scikit-learn.org. See: https://github.com/scikit-learn/scikit-learn/issues/21755 */display: inline-block !important;position: relative;}#sk-container-id-3 div.sk-text-repr-fallback {display: none;}</style><div id=\"sk-container-id-3\" class=\"sk-top-container\"><div class=\"sk-text-repr-fallback\"><pre>RandomForestClassifier()</pre><b>In a Jupyter environment, please rerun this cell to show the HTML representation or trust the notebook. <br />On GitHub, the HTML representation is unable to render, please try loading this page with nbviewer.org.</b></div><div class=\"sk-container\" hidden><div class=\"sk-item\"><div class=\"sk-estimator sk-toggleable\"><input class=\"sk-toggleable__control sk-hidden--visually\" id=\"sk-estimator-id-3\" type=\"checkbox\" checked><label for=\"sk-estimator-id-3\" class=\"sk-toggleable__label sk-toggleable__label-arrow\">RandomForestClassifier</label><div class=\"sk-toggleable__content\"><pre>RandomForestClassifier()</pre></div></div></div></div></div>"
      ],
      "text/plain": [
       "RandomForestClassifier()"
      ]
     },
     "execution_count": 176,
     "metadata": {},
     "output_type": "execute_result"
    }
   ],
   "source": [
    "rfc.fit(x_train_sex,y_train_sex)"
   ]
  },
  {
   "cell_type": "code",
   "execution_count": 177,
   "id": "a50c470a",
   "metadata": {},
   "outputs": [
    {
     "name": "stdout",
     "output_type": "stream",
     "text": [
      "              precision    recall  f1-score   support\n",
      "\n",
      "           1       1.00      1.00      1.00    119787\n",
      "           2       1.00      1.00      1.00     57185\n",
      "\n",
      "    accuracy                           1.00    176972\n",
      "   macro avg       1.00      1.00      1.00    176972\n",
      "weighted avg       1.00      1.00      1.00    176972\n",
      "\n"
     ]
    }
   ],
   "source": [
    "y_pred_sex=rfc.predict(x_test_sex)\n",
    "print(classification_report(y_test_sex,y_pred_sex))"
   ]
  },
  {
   "cell_type": "markdown",
   "id": "e896400a",
   "metadata": {},
   "source": [
    "# Data spliting into 20% test and 80% train set"
   ]
  },
  {
   "cell_type": "code",
   "execution_count": 178,
   "id": "82981550",
   "metadata": {},
   "outputs": [
    {
     "name": "stdout",
     "output_type": "stream",
     "text": [
      "Shape of X_train (471924, 23), y_train (471924, 1), X_test (117981, 23) and y_test (117981, 1)\n",
      "Shape of X_train (412933, 23), y_train (412933, 1), X_test (176972, 23) and y_test (176972, 1)\n"
     ]
    }
   ],
   "source": [
    "x_train_age,x_test_age,y_train_age,y_test_age=train_test_split(X1,Y1,test_size=0.20,random_state=12)\n",
    "print(f'Shape of X_train {x_train_age.shape}, y_train {y_train_age.shape}, X_test {x_test_age.shape} and y_test {y_test_age.shape}')\n",
    "x_train_sex,x_test_sex,y_train_sex,y_test_sex=train_test_split(X2,Y2,test_size=0.30,random_state=12)\n",
    "print(f'Shape of X_train {x_train_sex.shape}, y_train {y_train_sex.shape}, X_test {x_test_sex.shape} and y_test {y_test_sex.shape}')"
   ]
  },
  {
   "cell_type": "code",
   "execution_count": 179,
   "id": "b22fa87d",
   "metadata": {},
   "outputs": [],
   "source": [
    "y_train_age=y_train_age.values.ravel()\n",
    "y_test_age=y_test_age.values.ravel()\n",
    "y_train_sex=y_train_sex.values.ravel()\n",
    "y_test_sex=y_test_sex.values.ravel()"
   ]
  },
  {
   "cell_type": "markdown",
   "id": "92579741",
   "metadata": {},
   "source": [
    "## Prediction of Preparator Age "
   ]
  },
  {
   "cell_type": "code",
   "execution_count": 183,
   "id": "14bda455",
   "metadata": {},
   "outputs": [
    {
     "name": "stdout",
     "output_type": "stream",
     "text": [
      "Linear Regression Mean absolute error: 7.419340609901713, Mean Squared error: 128.86705031644303,Adjusted R Square Error: 0.5981173291493506\n"
     ]
    }
   ],
   "source": [
    "linreg_model.fit(x_train_age,y_train_age)\n",
    "y_pred_age=linreg_model.predict(x_test_age)\n",
    "print(f'Linear Regression Mean absolute error: {mean_absolute_error(y_test_age, y_pred_age)}, Mean Squared error: {mean_squared_error(y_test_age, y_pred_age)},Adjusted R Square Error: {r2_score(y_test_age, y_pred_age)}')"
   ]
  },
  {
   "cell_type": "markdown",
   "id": "b9c21443",
   "metadata": {},
   "source": [
    "## Random Forest"
   ]
  },
  {
   "cell_type": "code",
   "execution_count": 185,
   "id": "97938bc4",
   "metadata": {},
   "outputs": [
    {
     "name": "stdout",
     "output_type": "stream",
     "text": [
      "Random Forest Mean absolute error: 5.52952899195633, Mean Squared error: 87.68724688212511,Adjusted R Square Error: 0.726539989159415\n"
     ]
    }
   ],
   "source": [
    "rfr=RandomForestRegressor()\n",
    "rfr.fit(x_train_age,y_train_age)\n",
    "y_pred_age=rfr.predict(x_test_age)\n",
    "print(f'Random Forest Mean absolute error: {mean_absolute_error(y_test_age, y_pred_age)}, Mean Squared error: {mean_squared_error(y_test_age, y_pred_age)},Adjusted R Square Error: {r2_score(y_test_age, y_pred_age)}')"
   ]
  },
  {
   "cell_type": "markdown",
   "id": "e6b755a6",
   "metadata": {},
   "source": [
    "## Classification of Preparator Sex"
   ]
  },
  {
   "cell_type": "code",
   "execution_count": 186,
   "id": "47d28e1c",
   "metadata": {},
   "outputs": [
    {
     "name": "stdout",
     "output_type": "stream",
     "text": [
      "              precision    recall  f1-score   support\n",
      "\n",
      "           1       1.00      1.00      1.00    119787\n",
      "           2       1.00      1.00      1.00     57185\n",
      "\n",
      "    accuracy                           1.00    176972\n",
      "   macro avg       1.00      1.00      1.00    176972\n",
      "weighted avg       1.00      1.00      1.00    176972\n",
      "\n"
     ]
    }
   ],
   "source": [
    "logreg_model.fit(x_train_sex,y_train_sex)\n",
    "y_pred_sex=logreg_model.predict(x_test_sex)\n",
    "print(classification_report(y_test_sex,y_pred_sex))"
   ]
  },
  {
   "cell_type": "markdown",
   "id": "50586cb0",
   "metadata": {},
   "source": [
    "### Random Forest"
   ]
  },
  {
   "cell_type": "code",
   "execution_count": 187,
   "id": "d2ba3224",
   "metadata": {},
   "outputs": [],
   "source": [
    "rfc=RandomForestClassifier()"
   ]
  },
  {
   "cell_type": "code",
   "execution_count": 188,
   "id": "2f64cac8",
   "metadata": {},
   "outputs": [
    {
     "name": "stdout",
     "output_type": "stream",
     "text": [
      "              precision    recall  f1-score   support\n",
      "\n",
      "           1       1.00      1.00      1.00    119787\n",
      "           2       1.00      1.00      1.00     57185\n",
      "\n",
      "    accuracy                           1.00    176972\n",
      "   macro avg       1.00      1.00      1.00    176972\n",
      "weighted avg       1.00      1.00      1.00    176972\n",
      "\n"
     ]
    }
   ],
   "source": [
    "rfc.fit(x_train_sex,y_train_sex)\n",
    "y_pred_sex=rfc.predict(x_test_sex)\n",
    "print(classification_report(y_test_sex,y_pred_sex))"
   ]
  },
  {
   "cell_type": "markdown",
   "id": "489cb1ad",
   "metadata": {},
   "source": [
    "# Data spliting into 15% test and 85% train set"
   ]
  },
  {
   "cell_type": "code",
   "execution_count": 189,
   "id": "18c1ab63",
   "metadata": {},
   "outputs": [
    {
     "name": "stdout",
     "output_type": "stream",
     "text": [
      "Shape of X_train (501419, 23), y_train (501419, 1), X_test (88486, 23) and y_test (88486, 1)\n",
      "Shape of X_train (412933, 23), y_train (412933, 1), X_test (176972, 23) and y_test (176972, 1)\n"
     ]
    }
   ],
   "source": [
    "x_train_age,x_test_age,y_train_age,y_test_age=train_test_split(X1,Y1,test_size=0.15,random_state=12)\n",
    "print(f'Shape of X_train {x_train_age.shape}, y_train {y_train_age.shape}, X_test {x_test_age.shape} and y_test {y_test_age.shape}')\n",
    "x_train_sex,x_test_sex,y_train_sex,y_test_sex=train_test_split(X2,Y2,test_size=0.30,random_state=12)\n",
    "print(f'Shape of X_train {x_train_sex.shape}, y_train {y_train_sex.shape}, X_test {x_test_sex.shape} and y_test {y_test_sex.shape}')"
   ]
  },
  {
   "cell_type": "code",
   "execution_count": 190,
   "id": "a2c9bda3",
   "metadata": {},
   "outputs": [],
   "source": [
    "y_train_age=y_train_age.values.ravel()\n",
    "y_test_age=y_test_age.values.ravel()\n",
    "y_train_sex=y_train_sex.values.ravel()\n",
    "y_test_sex=y_test_sex.values.ravel()"
   ]
  },
  {
   "cell_type": "markdown",
   "id": "99cafd1f",
   "metadata": {},
   "source": [
    "## Prediction of Preparator Age "
   ]
  },
  {
   "cell_type": "code",
   "execution_count": 191,
   "id": "b03c0bda",
   "metadata": {},
   "outputs": [
    {
     "name": "stdout",
     "output_type": "stream",
     "text": [
      "Linear Regression Mean absolute error: 7.409334870842719, Mean Squared error: 128.38455424653722,Adjusted R Square Error: 0.5988887861170482\n"
     ]
    }
   ],
   "source": [
    "linreg_model.fit(x_train_age,y_train_age)\n",
    "y_pred_age=linreg_model.predict(x_test_age)\n",
    "print(f'Linear Regression Mean absolute error: {mean_absolute_error(y_test_age, y_pred_age)}, Mean Squared error: {mean_squared_error(y_test_age, y_pred_age)},Adjusted R Square Error: {r2_score(y_test_age, y_pred_age)}')"
   ]
  },
  {
   "cell_type": "markdown",
   "id": "6fae74fc",
   "metadata": {},
   "source": [
    "### Random Forest"
   ]
  },
  {
   "cell_type": "code",
   "execution_count": 192,
   "id": "bb2be2e8",
   "metadata": {},
   "outputs": [],
   "source": [
    "rfr=RandomForestRegressor()"
   ]
  },
  {
   "cell_type": "code",
   "execution_count": 193,
   "id": "e3e42f49",
   "metadata": {},
   "outputs": [
    {
     "name": "stdout",
     "output_type": "stream",
     "text": [
      "Random Forest Mean absolute error: 5.512055240377009, Mean Squared error: 87.21779588861514,Adjusted R Square Error: 0.7275058811677767\n"
     ]
    }
   ],
   "source": [
    "rfr.fit(x_train_age,y_train_age)\n",
    "y_pred_age=rfr.predict(x_test_age)\n",
    "print(f'Random Forest Mean absolute error: {mean_absolute_error(y_test_age, y_pred_age)}, Mean Squared error: {mean_squared_error(y_test_age, y_pred_age)},Adjusted R Square Error: {r2_score(y_test_age, y_pred_age)}')"
   ]
  },
  {
   "cell_type": "markdown",
   "id": "d62e8626",
   "metadata": {},
   "source": [
    "## Classification of Preparator Sex"
   ]
  },
  {
   "cell_type": "code",
   "execution_count": 194,
   "id": "8dce8790",
   "metadata": {},
   "outputs": [
    {
     "name": "stdout",
     "output_type": "stream",
     "text": [
      "              precision    recall  f1-score   support\n",
      "\n",
      "           1       1.00      1.00      1.00    119787\n",
      "           2       1.00      1.00      1.00     57185\n",
      "\n",
      "    accuracy                           1.00    176972\n",
      "   macro avg       1.00      1.00      1.00    176972\n",
      "weighted avg       1.00      1.00      1.00    176972\n",
      "\n"
     ]
    }
   ],
   "source": [
    "logreg_model.fit(x_train_sex,y_train_sex)\n",
    "y_pred_sex=logreg_model.predict(x_test_sex)\n",
    "print(classification_report(y_test_sex,y_pred_sex))"
   ]
  },
  {
   "cell_type": "code",
   "execution_count": 195,
   "id": "37900e15",
   "metadata": {},
   "outputs": [],
   "source": [
    "rfc=RandomForestClassifier()"
   ]
  },
  {
   "cell_type": "code",
   "execution_count": 196,
   "id": "bab19531",
   "metadata": {},
   "outputs": [
    {
     "name": "stdout",
     "output_type": "stream",
     "text": [
      "              precision    recall  f1-score   support\n",
      "\n",
      "           1       1.00      1.00      1.00    119787\n",
      "           2       1.00      1.00      1.00     57185\n",
      "\n",
      "    accuracy                           1.00    176972\n",
      "   macro avg       1.00      1.00      1.00    176972\n",
      "weighted avg       1.00      1.00      1.00    176972\n",
      "\n"
     ]
    }
   ],
   "source": [
    "rfc.fit(x_train_sex,y_train_sex)\n",
    "y_pred_sex=rfc.predict(x_test_sex)\n",
    "print(classification_report(y_test_sex,y_pred_sex))"
   ]
  }
 ],
 "metadata": {
  "hide_input": false,
  "kernelspec": {
   "display_name": "Python 3",
   "language": "python",
   "name": "python3"
  },
  "language_info": {
   "codemirror_mode": {
    "name": "ipython",
    "version": 3
   },
   "file_extension": ".py",
   "mimetype": "text/x-python",
   "name": "python",
   "nbconvert_exporter": "python",
   "pygments_lexer": "ipython3",
   "version": "3.8.8"
  }
 },
 "nbformat": 4,
 "nbformat_minor": 5
}
